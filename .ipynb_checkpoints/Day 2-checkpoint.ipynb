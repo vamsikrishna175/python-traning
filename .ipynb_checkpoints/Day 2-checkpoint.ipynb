{
 "cells": [
  {
   "cell_type": "markdown",
   "metadata": {},
   "source": [
    "# loops\n",
    " \n",
    "* while loop\n",
    "* for loop\n"
   ]
  },
  {
   "cell_type": "code",
   "execution_count": null,
   "metadata": {},
   "outputs": [],
   "source": [
    "# forloop syntax:-\n",
    "          for i in range(args): --->used for integers\n",
    "          for i in variable_name:-->used for string values"
   ]
  },
  {
   "cell_type": "code",
   "execution_count": 4,
   "metadata": {},
   "outputs": [
    {
     "name": "stdout",
     "output_type": "stream",
     "text": [
      "0\n",
      "1\n",
      "2\n",
      "3\n",
      "4\n",
      "5\n",
      "6\n",
      "7\n",
      "8\n",
      "9\n"
     ]
    }
   ],
   "source": [
    "# print first 10 integer numbers(single parameter)  //starting range\n",
    "for i in range(10):\n",
    "    print(i)"
   ]
  },
  {
   "cell_type": "code",
   "execution_count": 9,
   "metadata": {},
   "outputs": [
    {
     "name": "stdout",
     "output_type": "stream",
     "text": [
      "1 2 3 4 5 6 7 8 9 10 "
     ]
    }
   ],
   "source": [
    "# print first 10 integer numbers(two parameter) // ending range\n",
    "for i in range(1,11):\n",
    "    print(i,end=' ')"
   ]
  },
  {
   "cell_type": "code",
   "execution_count": 8,
   "metadata": {},
   "outputs": [
    {
     "name": "stdout",
     "output_type": "stream",
     "text": [
      "1 3 5 7 9 "
     ]
    }
   ],
   "source": [
    "# print first 10 integer numbers(third parameter) //step count\n",
    "for i in range(1,11,2):\n",
    "    print(i,end=' ')"
   ]
  },
  {
   "cell_type": "code",
   "execution_count": 13,
   "metadata": {},
   "outputs": [
    {
     "name": "stdout",
     "output_type": "stream",
     "text": [
      "enter a value1\n",
      "enter b value11\n",
      "2 4 6 8 10 "
     ]
    }
   ],
   "source": [
    "# print even numbers\n",
    "a=int(input(\"enter a value\"))\n",
    "b=int(input(\"enter b value\"))\n",
    "for i in range(a,b):\n",
    "    if i%2==0:\n",
    "        print(i,end=' ')"
   ]
  },
  {
   "cell_type": "code",
   "execution_count": 14,
   "metadata": {},
   "outputs": [
    {
     "name": "stdout",
     "output_type": "stream",
     "text": [
      "enter a value1\n",
      "enter b value11\n",
      "0 2 4 6 8 10 "
     ]
    }
   ],
   "source": [
    "# print even numbers\n",
    "a=int(input(\"enter a value\"))\n",
    "b=int(input(\"enter b value\"))\n",
    "for i in range(0,11,2):\n",
    "   \n",
    "        print(i,end=' ')"
   ]
  },
  {
   "cell_type": "code",
   "execution_count": 25,
   "metadata": {},
   "outputs": [
    {
     "name": "stdout",
     "output_type": "stream",
     "text": [
      "enter a value:10\n",
      "1 2 3 4 5 6 7 8 9 10 \n",
      " 55\n",
      "5.5\n"
     ]
    }
   ],
   "source": [
    "#print n natural numbers & average of that n natural numbers\n",
    "n=int(input(\"enter a value:\"))\n",
    "sum1=0\n",
    "for i in range(1,n+1):\n",
    "    print(i,end=' ')\n",
    "    sum1 +=i\n",
    "print(\"\\n\",sum1)\n",
    "print(sum1/n)"
   ]
  },
  {
   "cell_type": "code",
   "execution_count": 35,
   "metadata": {},
   "outputs": [
    {
     "name": "stdout",
     "output_type": "stream",
     "text": [
      "enter n value:10\n",
      "enter n1 value:15\n",
      "sum is 75\n",
      "the average is: 12.5\n"
     ]
    }
   ],
   "source": [
    "#print two numbers & average of that two numbers\n",
    "\n",
    "n=int(input(\"enter n value:\"))\n",
    "n1=int(input(\"enter n1 value:\"))\n",
    "sum1=0\n",
    "count=0\n",
    "for i in range(n,n1+1):\n",
    "    count=count+1\n",
    "    sum1=sum1+i\n",
    "print(\"sum is\",sum1)\n",
    "print(\"the average is:\",sum1/count)"
   ]
  },
  {
   "cell_type": "code",
   "execution_count": 37,
   "metadata": {},
   "outputs": [
    {
     "name": "stdout",
     "output_type": "stream",
     "text": [
      "enter n value:5\n",
      "enter n1 value:8\n",
      "sum is 26\n",
      "the average is: 13.0\n"
     ]
    }
   ],
   "source": [
    "#print even numbers & average of that even numbers\n",
    "\n",
    "n=int(input(\"enter n value:\"))\n",
    "n1=int(input(\"enter n1 value:\"))\n",
    "sum1=0\n",
    "count=0\n",
    "for i in range(n,n1+1):\n",
    "    if i%2==0:\n",
    "        count=count+1\n",
    "    sum1=sum1+i\n",
    "print(\"sum is\",sum1)\n",
    "print(\"the average is:\",sum1/count)"
   ]
  },
  {
   "cell_type": "code",
   "execution_count": 43,
   "metadata": {},
   "outputs": [
    {
     "name": "stdout",
     "output_type": "stream",
     "text": [
      "enter n value:5\n",
      "enter n1 value:7\n",
      "sum is 11\n",
      "the average is: 5.5\n"
     ]
    }
   ],
   "source": [
    "#print  strings & average of that strings\n",
    "\n",
    "n=input(\"enter n value:\")\n",
    "n1=input(\"enter n1 value:\")\n",
    "sum1=0\n",
    "count=0\n",
    "for i in range(int(n),int(n1)):\n",
    "    count=count+1\n",
    "    sum1=sum1+int(i)\n",
    "print(\"sum is\",sum1)\n",
    "print(\"the average is:\",sum1/count)"
   ]
  },
  {
   "cell_type": "code",
   "execution_count": 46,
   "metadata": {},
   "outputs": [
    {
     "name": "stdout",
     "output_type": "stream",
     "text": [
      "enter n value:5\n",
      "factorial of a given number is : 120\n"
     ]
    }
   ],
   "source": [
    "# print factorial of a number\n",
    "n=int (input(\"enter n value:\"))\n",
    "fact=1\n",
    "for i in range(1,n+1):\n",
    "    fact=fact*i\n",
    "print (\"factorial of a given number is :\",fact)\n",
    "\n",
    "        \n",
    "        "
   ]
  },
  {
   "cell_type": "code",
   "execution_count": 1,
   "metadata": {},
   "outputs": [
    {
     "name": "stdout",
     "output_type": "stream",
     "text": [
      "enter n value:3\n",
      "3 is a primenumber\n"
     ]
    }
   ],
   "source": [
    "\n",
    "#check the given number is prime or not\n",
    "n=int (input(\"enter n value:\"))\n",
    "fact_count=0\n",
    "for i in range(1,n+1):\n",
    "    if n%i==0:\n",
    "        fact_count +=1\n",
    "if fact_count==2:\n",
    "    print(n,\"is a primenumber\")\n",
    "else:\n",
    "     print(n,\"is not a primenumber\")\n",
    "    \n",
    "    \n",
    "        "
   ]
  },
  {
   "cell_type": "code",
   "execution_count": 11,
   "metadata": {},
   "outputs": [
    {
     "name": "stdout",
     "output_type": "stream",
     "text": [
      "enter n value:6\n",
      "6 is a prefect number\n"
     ]
    }
   ],
   "source": [
    "#check the given number is prefect or not\n",
    "n=int(input(\"enter n value:\"))\n",
    "sum1=0\n",
    "for i in range(1,n):\n",
    "    if n%i==0:\n",
    "        sum1+=i\n",
    "if sum1==n:\n",
    "    print(n,\"is a prefect number\")\n",
    "else:\n",
    "     print(n,\"is not a prefect number\")\n",
    "    "
   ]
  },
  {
   "cell_type": "code",
   "execution_count": 13,
   "metadata": {},
   "outputs": [
    {
     "name": "stdout",
     "output_type": "stream",
     "text": [
      "enter n value5\n",
      "factorial of a given number is : 120\n"
     ]
    }
   ],
   "source": [
    "#if given number is even check prime or not else if it is odd find the factors of that number\n",
    "n=int(input(\"enter n value\"))\n",
    "count=0\n",
    "if(n%2==0):\n",
    "    for i in range(1,n):\n",
    "        if(n%i==0):\n",
    "            count+=i\n",
    "    if count==n:\n",
    "        print(\"prefect number\")\n",
    "    else:\n",
    "        print(\"not a prefect number\")\n",
    "else:\n",
    "    fact=1\n",
    "    for i in range(1,n+1):\n",
    "        fact=fact*i\n",
    "    print (\"factorial of a given number is :\",fact)\n",
    "    \n",
    "            \n",
    "    "
   ]
  },
  {
   "cell_type": "code",
   "execution_count": 16,
   "metadata": {},
   "outputs": [
    {
     "name": "stdout",
     "output_type": "stream",
     "text": [
      "enetr a number for table19\n",
      "19 x 1 = 19\n",
      "19 x 2 = 38\n",
      "19 x 3 = 57\n",
      "19 x 4 = 76\n",
      "19 x 5 = 95\n",
      "19 x 6 = 114\n",
      "19 x 7 = 133\n",
      "19 x 8 = 152\n",
      "19 x 9 = 171\n",
      "19 x 10 = 190\n"
     ]
    }
   ],
   "source": [
    "#to print a multiplication table\n",
    "n=int(input(\"enetr a number for table\"))\n",
    "for i in range(1,11):\n",
    "    print(n,\"x\",i,\"=\",n*i)\n"
   ]
  },
  {
   "cell_type": "markdown",
   "metadata": {},
   "source": [
    "# jump stmts \n",
    "* break\n",
    "* continue"
   ]
  },
  {
   "cell_type": "code",
   "execution_count": 7,
   "metadata": {
    "scrolled": true
   },
   "outputs": [
    {
     "name": "stdout",
     "output_type": "stream",
     "text": [
      "enter n value:10\n",
      "1 2 3 4 5 "
     ]
    }
   ],
   "source": [
    "# using break stmt\n",
    "n=int (input(\"enter n value:\"))\n",
    "for i in range(1,n+1):\n",
    "    print(i,end=' ')\n",
    "    if i == 5:\n",
    "        break\n",
    "    "
   ]
  },
  {
   "cell_type": "code",
   "execution_count": 6,
   "metadata": {},
   "outputs": [
    {
     "name": "stdout",
     "output_type": "stream",
     "text": [
      "enter n value:10\n",
      "1 2 3 4 6 7 8 9 10 "
     ]
    }
   ],
   "source": [
    "# using continue stmt\n",
    "n=int (input(\"enter n value:\"))\n",
    "for i in range(1,n+1):\n",
    "   \n",
    "    if i == 5:\n",
    "        continue\n",
    "    print(i,end=' ')"
   ]
  },
  {
   "cell_type": "code",
   "execution_count": 20,
   "metadata": {},
   "outputs": [
    {
     "name": "stdout",
     "output_type": "stream",
     "text": [
      "anhsirkismav\n",
      "a n h s i r k i s m a v "
     ]
    }
   ],
   "source": [
    "# ussing string values\n",
    "name=input()\n",
    "for i in name:\n",
    "    print(i,end=' ')\n",
    "    "
   ]
  },
  {
   "cell_type": "markdown",
   "metadata": {},
   "source": [
    "# ascii values\n",
    " 1. ord( )--->parameter is string(character)\n",
    " 2. char( )--->calculating value for the ascii values\n"
   ]
  },
  {
   "cell_type": "code",
   "execution_count": 14,
   "metadata": {},
   "outputs": [
    {
     "name": "stdout",
     "output_type": "stream",
     "text": [
      "97\n",
      "65\n"
     ]
    }
   ],
   "source": [
    "print(ord('a'))\n",
    "print(ord('A'))"
   ]
  },
  {
   "cell_type": "code",
   "execution_count": 18,
   "metadata": {},
   "outputs": [
    {
     "name": "stdout",
     "output_type": "stream",
     "text": [
      "a\n",
      "A\n"
     ]
    }
   ],
   "source": [
    "print(chr(97))\n",
    "print(chr(65))"
   ]
  },
  {
   "cell_type": "code",
   "execution_count": 36,
   "metadata": {},
   "outputs": [
    {
     "name": "stdout",
     "output_type": "stream",
     "text": [
      "enter n value:boby\n",
      "b  b ¢ "
     ]
    }
   ],
   "source": [
    "name=input(\"enter n value:\")\n",
    "for i in name:\n",
    "    if ord(i)%2==0:\n",
    "        print(i,end=' ')\n",
    "    else:\n",
    "        res = (ord(i)*ord(i))/90\n",
    "        res1=int(res)\n",
    "        print(chr(res1),end=' ')"
   ]
  },
  {
   "cell_type": "markdown",
   "metadata": {},
   "source": [
    "# syntax for while loop\n",
    " ## while condition:\n",
    "   ###                           body of while loop"
   ]
  },
  {
   "cell_type": "code",
   "execution_count": 1,
   "metadata": {},
   "outputs": [
    {
     "name": "stdout",
     "output_type": "stream",
     "text": [
      "2 4 6 8 10 "
     ]
    }
   ],
   "source": [
    "i = 1\n",
    "while i<=10:\n",
    "    if i%2 == 0:\n",
    "        print(i,end=' ')\n",
    "    i = i+1"
   ]
  },
  {
   "cell_type": "markdown",
   "metadata": {},
   "source": [
    "# functions\n",
    "* **block of stmts/set of stmts to perform paticular task is function**\n",
    "* **block of stmts will execute & returnthe result when function is called**\n",
    "## 1.)Bulit in function\n",
    "*max\n",
    "*min\n",
    "*sum\n",
    "*len\n",
    "*ord\n",
    "*chr\n",
    "*abs\n",
    "## 2.)User define function:\n",
    "                              these are used by the user to perform some paticular tasks\n",
    "                              *\n"
   ]
  },
  {
   "cell_type": "code",
   "execution_count": 2,
   "metadata": {},
   "outputs": [
    {
     "name": "stdout",
     "output_type": "stream",
     "text": [
      "vamsi\n",
      "welcome to vlit's vamsi\n"
     ]
    }
   ],
   "source": [
    "n=input()\n",
    "def sample():\n",
    "    print(\"welcome to vlit's\",n)\n",
    "sample()"
   ]
  },
  {
   "cell_type": "code",
   "execution_count": 5,
   "metadata": {},
   "outputs": [
    {
     "name": "stdout",
     "output_type": "stream",
     "text": [
      "5\n",
      "4\n",
      "mul of 5 and 4 is 20\n"
     ]
    },
    {
     "ename": "NameError",
     "evalue": "name 'n' is not defined",
     "output_type": "error",
     "traceback": [
      "\u001b[1;31m---------------------------------------------------------------------------\u001b[0m",
      "\u001b[1;31mNameError\u001b[0m                                 Traceback (most recent call last)",
      "\u001b[1;32m<ipython-input-5-7e89e4b71c2d>\u001b[0m in \u001b[0;36m<module>\u001b[1;34m\u001b[0m\n\u001b[0;32m      4\u001b[0m     \u001b[0mprint\u001b[0m\u001b[1;33m(\u001b[0m\u001b[1;34m\"mul of\"\u001b[0m\u001b[1;33m,\u001b[0m\u001b[0mn\u001b[0m\u001b[1;33m,\u001b[0m\u001b[1;34m\"and\"\u001b[0m\u001b[1;33m,\u001b[0m\u001b[0mn1\u001b[0m\u001b[1;33m,\u001b[0m\u001b[1;34m\"is\"\u001b[0m\u001b[1;33m,\u001b[0m\u001b[0mn\u001b[0m\u001b[1;33m*\u001b[0m\u001b[0mn1\u001b[0m\u001b[1;33m)\u001b[0m\u001b[1;33m\u001b[0m\u001b[1;33m\u001b[0m\u001b[0m\n\u001b[0;32m      5\u001b[0m \u001b[0mlocal\u001b[0m\u001b[1;33m(\u001b[0m\u001b[1;33m)\u001b[0m\u001b[1;33m\u001b[0m\u001b[1;33m\u001b[0m\u001b[0m\n\u001b[1;32m----> 6\u001b[1;33m \u001b[0mprint\u001b[0m\u001b[1;33m(\u001b[0m\u001b[0mn\u001b[0m\u001b[1;33m,\u001b[0m\u001b[0mn1\u001b[0m\u001b[1;33m)\u001b[0m\u001b[1;33m\u001b[0m\u001b[1;33m\u001b[0m\u001b[0m\n\u001b[0m",
      "\u001b[1;31mNameError\u001b[0m: name 'n' is not defined"
     ]
    }
   ],
   "source": [
    "# using local\n",
    "def local():\n",
    "    n=int(input())\n",
    "    n1=int(input())\n",
    "    print(\"mul of\",n,\"and\",n1,\"is\",n*n1)\n",
    "local()\n",
    "print(n,n1)"
   ]
  },
  {
   "cell_type": "code",
   "execution_count": 9,
   "metadata": {},
   "outputs": [
    {
     "name": "stdout",
     "output_type": "stream",
     "text": [
      "5\n",
      "4\n",
      "mul of 5 and 4 is 20\n",
      "5 4\n"
     ]
    }
   ],
   "source": [
    "# using global\n",
    "    n=int(input())\n",
    "    n1=int(input())\n",
    "    def Global():\n",
    "        print(\"mul of\",n,\"and\",n1,\"is\",n*n1)\n",
    "Global()\n",
    "print(n,n1)"
   ]
  },
  {
   "cell_type": "code",
   "execution_count": 11,
   "metadata": {},
   "outputs": [
    {
     "name": "stdout",
     "output_type": "stream",
     "text": [
      "enter n value6\n",
      "prefect number\n"
     ]
    }
   ],
   "source": [
    "# if given number is even check prime or not else if it is odd find the factors of that number\n",
    "n=int(input(\"enter n value\"))\n",
    "def piza():\n",
    "    if(n%2==0):\n",
    "        count=0\n",
    "        for i in range(1,n):\n",
    "            if n%i==0:\n",
    "                count+=i\n",
    "        if count==n:\n",
    "            print(\"prefect number\")\n",
    "        else:\n",
    "            print(\"not a prefect number\")\n",
    "    else:\n",
    "        fact=1\n",
    "        for i in range(1,n+1):\n",
    "            fact=fact*i\n",
    "            print (\"factorial of a given number is :\",fact)\n",
    "piza()"
   ]
  },
  {
   "cell_type": "code",
   "execution_count": 19,
   "metadata": {},
   "outputs": [
    {
     "name": "stdout",
     "output_type": "stream",
     "text": [
      "vamsi\n",
      "student\n",
      "name is: vamsi\n",
      "organization is: student\n"
     ]
    }
   ],
   "source": [
    "# required arg\n",
    "n=input()\n",
    "org=input()\n",
    "def Required():\n",
    "    print(\"name is:\",n)\n",
    "    print(\"organization is:\",org)\n",
    "Required()"
   ]
  },
  {
   "cell_type": "code",
   "execution_count": 20,
   "metadata": {},
   "outputs": [
    {
     "name": "stdout",
     "output_type": "stream",
     "text": [
      "addition is: 15\n",
      "mul is: 60\n"
     ]
    }
   ],
   "source": [
    "# default arg\n",
    "def Default(a,b,c=10):\n",
    "    print(\"addition is:\",a+b+c)\n",
    "    print(\"mul is:\",a*b*c)\n",
    "Default(3,2)"
   ]
  },
  {
   "cell_type": "code",
   "execution_count": 23,
   "metadata": {},
   "outputs": [
    {
     "name": "stdout",
     "output_type": "stream",
     "text": [
      "name is: vamsikrish\n",
      "username is: vamsi175\n"
     ]
    }
   ],
   "source": [
    "# keyword\n",
    "def keyword(fname,lname,uname):\n",
    "    print(\"name is:\",fname+lname)\n",
    "    print(\"username is:\",uname)\n",
    "keyword(uname='vamsi175',fname='vamsi',lname='krish')"
   ]
  },
  {
   "cell_type": "code",
   "execution_count": null,
   "metadata": {},
   "outputs": [],
   "source": []
  }
 ],
 "metadata": {
  "kernelspec": {
   "display_name": "Python 3",
   "language": "python",
   "name": "python3"
  },
  "language_info": {
   "codemirror_mode": {
    "name": "ipython",
    "version": 3
   },
   "file_extension": ".py",
   "mimetype": "text/x-python",
   "name": "python",
   "nbconvert_exporter": "python",
   "pygments_lexer": "ipython3",
   "version": "3.8.5"
  }
 },
 "nbformat": 4,
 "nbformat_minor": 4
}
